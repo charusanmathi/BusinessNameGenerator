{
 "cells": [
  {
   "cell_type": "code",
   "execution_count": 9,
   "id": "7a0502d4",
   "metadata": {},
   "outputs": [],
   "source": [
    "# Secure way to import key\n",
    "\n",
    "from secretapikey import openai_api_key\n",
    "import os\n",
    "\n",
    "os.environ[\"OPENAI_API_KEY\"] = openai_api_key"
   ]
  },
  {
   "cell_type": "code",
   "execution_count": 10,
   "id": "3312fc94",
   "metadata": {
    "scrolled": true
   },
   "outputs": [],
   "source": [
    "from langchain_openai import OpenAI\n",
    "from langchain.prompts import PromptTemplate\n",
    "from langchain.chains import LLMChain\n",
    "from langchain.chains import SimpleSequentialChain\n",
    "from langchain.chains import SequentialChain"
   ]
  },
  {
   "cell_type": "markdown",
   "id": "13a8b16e",
   "metadata": {},
   "source": [
    "# LLM'S"
   ]
  },
  {
   "cell_type": "code",
   "execution_count": 4,
   "id": "a3ef54bf",
   "metadata": {},
   "outputs": [
    {
     "name": "stdout",
     "output_type": "stream",
     "text": [
      "\n",
      "\n",
      "\"Maharaja's Palace\"\n"
     ]
    }
   ],
   "source": [
    "llm = OpenAI(temperature=0.9)\n",
    "name = llm.invoke(\"I want to open a restaurant for Indian food. Suggest a fency name for this.\")\n",
    "print(name)"
   ]
  },
  {
   "cell_type": "markdown",
   "id": "50ba9e47",
   "metadata": {},
   "source": [
    "# PROMPTS"
   ]
  },
  {
   "cell_type": "code",
   "execution_count": 62,
   "id": "65f6bf06",
   "metadata": {},
   "outputs": [
    {
     "name": "stdout",
     "output_type": "stream",
     "text": [
      "I want to open a restaurant for Italian food. Suggest a unique and contemporary name for this.\n"
     ]
    }
   ],
   "source": [
    "prompt_template_name = PromptTemplate(\n",
    "    input_variables =['cuisine'],\n",
    "    template = \"I want to open a restaurant for {cuisine} food. Suggest a unique and contemporary name for this.\"\n",
    ")\n",
    "p = prompt_template_name.format(cuisine=\"Italian\")\n",
    "print(p)\n",
    "\n",
    "# print(llm.predict(p))"
   ]
  },
  {
   "cell_type": "code",
   "execution_count": 63,
   "id": "a78ea35b",
   "metadata": {},
   "outputs": [
    {
     "data": {
      "text/plain": [
       "'\\n\\n\"Spice Fusion Bistro\"'"
      ]
     },
     "execution_count": 63,
     "metadata": {},
     "output_type": "execute_result"
    }
   ],
   "source": [
    "llm(\"I want to open a restaurant for Indian food. Suggest a fancy name for this.\")"
   ]
  },
  {
   "cell_type": "code",
   "execution_count": 11,
   "id": "aabbcaa4",
   "metadata": {
    "scrolled": false
   },
   "outputs": [
    {
     "name": "stderr",
     "output_type": "stream",
     "text": [
      "/Users/anaconda3/lib/python3.10/site-packages/langchain_core/_api/deprecation.py:119: LangChainDeprecationWarning: The method `Chain.run` was deprecated in langchain 0.1.0 and will be removed in 0.3.0. Use invoke instead.\n",
      "  warn_deprecated(\n"
     ]
    },
    {
     "data": {
      "text/plain": [
       "'\\n\\n\"El Jardín de Sabores\" (The Garden of Flavors)'"
      ]
     },
     "execution_count": 11,
     "metadata": {},
     "output_type": "execute_result"
    }
   ],
   "source": [
    "chain = LLMChain(llm=llm, prompt=prompt_template_name)\n",
    "\n",
    "chain.run(\"Mexican\")"
   ]
  },
  {
   "cell_type": "code",
   "execution_count": 30,
   "id": "6a2919f5",
   "metadata": {},
   "outputs": [],
   "source": [
    "llm = OpenAI(temperature=0.6)\n",
    "\n",
    "prompt_template_name = PromptTemplate(\n",
    "    input_variables =['cuisine'],\n",
    "    template = \"I want to open a restaurant for {cuisine} food. Suggest a fancy name for this.\"\n",
    ")\n",
    "\n",
    "name_chain =LLMChain(llm=llm, prompt=prompt_template_name)\n",
    "\n",
    "prompt_template_items = PromptTemplate(\n",
    "    input_variables = ['restaurant_name'],\n",
    "    template = \"\"\" Recommend 15 menu items for {restaurant_name}. Just the names as a list\"\"\"\n",
    "    )\n",
    "\n",
    "food_items_chain = LLMChain(llm=llm, prompt = prompt_template_items)"
   ]
  },
  {
   "cell_type": "code",
   "execution_count": 14,
   "id": "57cc36db",
   "metadata": {},
   "outputs": [
    {
     "name": "stdout",
     "output_type": "stream",
     "text": [
      "\n",
      "\n",
      "1. Chicken Tikka Masala\n",
      "2. Lamb Vindaloo\n",
      "3. Vegetable Korma\n",
      "4. Tandoori Shrimp\n",
      "5. Paneer Tikka\n",
      "6. Samosas\n",
      "7. Palak Paneer\n",
      "8. Aloo Gobi\n",
      "9. Butter Chicken\n",
      "10. Biryani\n",
      "11. Naan Bread\n",
      "12. Mango Lassi\n",
      "13. Chana Masala\n",
      "14. Malai Kofta\n",
      "15. Gulab Jamun\n"
     ]
    }
   ],
   "source": [
    "chain = SimpleSequentialChain(chains = [name_chain,food_items_chain])\n",
    "response = chain.run(\"Indian\")\n",
    "print(response)"
   ]
  },
  {
   "cell_type": "code",
   "execution_count": 19,
   "id": "edb0cd4f",
   "metadata": {},
   "outputs": [
    {
     "name": "stdout",
     "output_type": "stream",
     "text": [
      ".\n",
      "\n",
      "1. Tacos al Pastor\n",
      "2. Enchiladas Verdes\n",
      "3. Carne Asada\n",
      "4. Chile Relleno\n",
      "5. Camarones al Mojo de Ajo\n",
      "6. Quesadillas de Huitlacoche\n",
      "7. Sopa de Tortilla\n",
      "8. Ceviche de Pescado\n",
      "9. Fajitas de Pollo\n",
      "10. Tamales de Mole\n",
      "11. Burrito de Carnitas\n",
      "12. Pozole\n",
      "13. Tostadas de Tinga\n",
      "14. Arroz con Pollo\n",
      "15. Flan de Caramel\n"
     ]
    }
   ],
   "source": [
    "chain = SimpleSequentialChain(chains = [name_chain,food_items_chain])\n",
    "response = chain.run(\"Mexican\")\n",
    "print(response)"
   ]
  },
  {
   "cell_type": "code",
   "execution_count": 35,
   "id": "1db1cda5",
   "metadata": {},
   "outputs": [],
   "source": [
    "# Initialize the LLM with desired parameters\n",
    "llm = OpenAI(temperature=0.7)\n",
    "\n",
    "# Define the prompt template for generating restaurant names\n",
    "prompt_template_name = PromptTemplate(\n",
    "    input_variables=['cuisine'],\n",
    "    template=\"I want to open a restaurant for {cuisine} food. Recommend a fancy name for this.\"\n",
    ")\n",
    "\n",
    "# Define the name chain\n",
    "name_chain = LLMChain(\n",
    "    llm=llm,\n",
    "    prompt=prompt_template_name,\n",
    "    output_key='restaurant_name'\n",
    ")\n",
    "\n",
    "# Define the prompt template for generating menu items\n",
    "prompt_template_items = PromptTemplate(\n",
    "    input_variables=['restaurant_name'],\n",
    "    template=\"Recommend 15 menu items for {restaurant_name}\"\n",
    ")\n",
    "\n",
    "# Define the food items chain\n",
    "food_items_chain = LLMChain(\n",
    "    llm=llm,\n",
    "    prompt=prompt_template_items,\n",
    "    output_key='menu_items'\n",
    ")"
   ]
  },
  {
   "cell_type": "markdown",
   "id": "526580ad",
   "metadata": {},
   "source": [
    "# SEQUENTIAL CHAIN"
   ]
  },
  {
   "cell_type": "code",
   "execution_count": 36,
   "id": "18b19dea",
   "metadata": {},
   "outputs": [
    {
     "name": "stdout",
     "output_type": "stream",
     "text": [
      "Restaurant Name: \"Sahara Spice\"\n",
      "\n",
      "Menu Items:\n",
      "\n",
      "['1. Moroccan Spiced Lamb Tagine', '2. Tandoori Chicken Skewers', '3. Egyptian Falafel Wrap', '4. Spicy Tunisian Shakshuka', '5. Algerian Couscous with Vegetables', '6. Moroccan Harissa Chicken Sandwich', \"7. Lebanese Za'atar Roasted Vegetables\", '8. Tunisian Spiced Lamb Kebabs', '9. Egyptian Koshari Bowl', '10. North African Spiced Lentil Soup', '11. Moroccan Lamb and Apricot Tajine', '12. Spicy Chicken Shawarma Wrap', '13. Tunisian Spicy Grilled Shrimp', '14. Moroccan Vegetable Couscous Salad', '15. Harissa Hummus and Pita Platter']\n"
     ]
    }
   ],
   "source": [
    "# Define the SequentialChain with correct input and output handling\n",
    "sequential_chain = SequentialChain(\n",
    "    chains=[name_chain, food_items_chain],\n",
    "    input_variables=['cuisine'],\n",
    "    output_variables=['restaurant_name', 'menu_items']\n",
    ")\n",
    "\n",
    "# Provide the initial input and run the chain\n",
    "result = sequential_chain({'cuisine': 'Arabic'})\n",
    "\n",
    "# Output the result\n",
    "restaurant_name = result['restaurant_name'].strip()\n",
    "menu_items = result['menu_items']\n",
    "\n",
    "# Split the menu items into a list\n",
    "menu_items_list = menu_items.split('\\n') if '\\n' in menu_items else menu_items.split(',')\n",
    "\n",
    "# Remove empty items and strip extra whitespace\n",
    "menu_items_list = [item.strip() for item in menu_items_list if item.strip()]\n",
    "\n",
    "# Format and print the menu items with numbers\n",
    "formatted_menu_items = \"\\n\".join(f\"{i+1}. {item}\" for i, item in enumerate(menu_items_list))\n",
    "\n",
    "print(f\"Restaurant Name: {restaurant_name}\\n\")\n",
    "print(\"Menu Items:\\n\")\n",
    "print(menu_items_list)\n"
   ]
  },
  {
   "cell_type": "markdown",
   "id": "7fb4eb69",
   "metadata": {},
   "source": [
    "# AGENTS"
   ]
  },
  {
   "cell_type": "code",
   "execution_count": 60,
   "id": "e0a25a71",
   "metadata": {},
   "outputs": [],
   "source": [
    "from langchain.agents import AgentType, initialize_agent, create_react_agent, load_tools\n",
    "from langchain.llms import OpenAI"
   ]
  },
  {
   "cell_type": "code",
   "execution_count": 69,
   "id": "1997e116",
   "metadata": {},
   "outputs": [
    {
     "name": "stdout",
     "output_type": "stream",
     "text": [
      "\n",
      "\n",
      "\u001b[1m> Entering new AgentExecutor chain...\u001b[0m\n",
      "\u001b[32;1m\u001b[1;3m We can use Wikipedia to find the information about Elon Musk's birthday and his current age.\n",
      "Action: wikipedia\n",
      "Action Input: Elon Musk\u001b[0m\n",
      "Observation: \u001b[36;1m\u001b[1;3mPage: Elon Musk\n",
      "Summary: Elon Reeve Musk (; born June 28, 1971) is a businessman and investor known for his key roles in space company SpaceX and automotive company Tesla, Inc. Other involvements include ownership of X Corp., formerly Twitter, and his role in the founding of The Boring Company, xAI, Neuralink and OpenAI. He is one of the wealthiest people in the world; as of June 2024, Forbes estimates his net worth to be US$210 billion.\n",
      "A member of the wealthy South African Musk family, Musk was born in Pretoria and briefly attended the University of Pretoria before immigrating to Canada at age 18, acquiring citizenship through his Canadian-born mother. Two years later, he matriculated at Queen's University at Kingston in Canada. Musk later transferred to the University of Pennsylvania and received bachelor's degrees in economics and physics. He moved to California in 1995 to attend Stanford University, but dropped out after two days and, with his brother Kimbal, co-founded online city guide software company Zip2. The startup was acquired by Compaq for $307 million in 1999. That same year, Musk co-founded X.com, a direct bank. X.com merged with Confinity in 2000 to form PayPal. In October 2002, eBay acquired PayPal for $1.5 billion. Using $100 million of the money he made from the sale of PayPal, Musk founded SpaceX, a spaceflight services company, in 2002. \n",
      "In 2004, Musk became an early investor in electric vehicle manufacturer Tesla Motors, Inc. (later Tesla, Inc.). He became the company's chairman and product architect, assuming the position of CEO in 2008. In 2006, Musk helped create SolarCity, a solar-energy company that was acquired by Tesla in 2016 and became Tesla Energy. In 2013, he proposed a hyperloop high-speed vactrain transportation system. In 2015, he co-founded OpenAI, a nonprofit artificial intelligence research company. The following year, Musk co-founded Neuralink—a neurotechnology company developing brain–computer interfaces—and the Boring Company, a tunnel construction company. In 2018, the U.S. Securities and Exchange Commission (SEC) sued Musk, alleging that he had falsely announced that he had secured funding for a private takeover of Tesla. To settle the case, Musk stepped down as the chairman of Tesla and paid a $20 million fine. In 2022, he acquired Twitter for $44 billion. He subsequently merged the company into newly created X Corp. and rebranded the service as X the following year. In March 2023, Musk founded xAI, an artificial intelligence company.\n",
      "Musk has expressed views that have made him a polarizing figure. He has been criticized for making unscientific and misleading statements, including COVID-19 misinformation and antisemitic conspiracy theories. His ownership of Twitter has been similarly controversial, being marked by layoffs of large numbers of employees, an increase in hate speech, misinformation and disinformation on the website, and changes to Twitter Blue verification.\n",
      "\n",
      "Page: Acquisition of Twitter by Elon Musk\n",
      "Summary: Business magnate Elon Musk initiated an acquisition of American social media company Twitter, Inc. on April 14, 2022, and concluded it on October 28, 2022. Musk stated he intended to buy Twitter to build X, an everything app he had been developing since 2018 to mimic the Chinese app WeChat. Musk had begun buying shares of the company in January 2022, becoming its largest shareholder by April with a 9.1 percent ownership stake. Twitter invited Musk to join its board of directors, an offer he initially accepted before declining. On April 14, Musk made an unsolicited offer to purchase the company, to which Twitter's board responded with a \"poison pill\" strategy to resist a hostile takeover before unanimously accepting Musk's buyout offer of $44 billion on April 25. Musk stated that he planned to introduce new features to the platform, make its algorithms open-source, combat spambot accounts, and promote free speech.\n",
      "In July, Musk announced his intention to terminate t\u001b[0m\n",
      "Thought:\u001b[32;1m\u001b[1;3m Now that we have the information about Elon Musk's birthday and his current age, we can use a Calculator to find his age in 2024.\n",
      "Action: Calculator\n",
      "Action Input: 2024 - 1971\u001b[0m\n",
      "Observation: \u001b[33;1m\u001b[1;3mAnswer: 53\u001b[0m\n",
      "Thought:\u001b[32;1m\u001b[1;3m I now know the final answer.\n",
      "Final Answer: Elon Musk's age in 2024 will be 53 years old.\u001b[0m\n",
      "\n",
      "\u001b[1m> Finished chain.\u001b[0m\n"
     ]
    },
    {
     "data": {
      "text/plain": [
       "\"Elon Musk's age in 2024 will be 53 years old.\""
      ]
     },
     "execution_count": 69,
     "metadata": {},
     "output_type": "execute_result"
    }
   ],
   "source": [
    "# The tools we'll give the Agent access to. Note that the 'llm-math' tool uses an LLM, so we need to pass that in.\n",
    "tools = load_tools([\"wikipedia\", \"llm-math\"],llm=llm)\n",
    "\n",
    "\n",
    "agent = initialize_agent(tools, \n",
    "                 llm,\n",
    "                 agent = AgentType.ZERO_SHOT_REACT_DESCRIPTION,\n",
    "                         verbose = True\n",
    "                         \n",
    "                )\n",
    "\n",
    "agent.run(\"When is Elon Musk birthday and What is his age in 2024?\")"
   ]
  },
  {
   "cell_type": "code",
   "execution_count": 71,
   "id": "9a22261e",
   "metadata": {},
   "outputs": [],
   "source": [
    "from secretserpapikey import serpapi_key\n",
    "\n",
    "os.environ['SERPAPI_API_KEY'] = serpapi_key"
   ]
  },
  {
   "cell_type": "code",
   "execution_count": 80,
   "id": "47f5ed98",
   "metadata": {},
   "outputs": [
    {
     "name": "stdout",
     "output_type": "stream",
     "text": [
      "\n",
      "\n",
      "\u001b[1m> Entering new AgentExecutor chain...\u001b[0m\n",
      "\u001b[32;1m\u001b[1;3m I need to find the GDP of UK for 2023 first\n",
      "Action: Search\n",
      "Action Input: \"GDP UK 2023\"\u001b[0m\n",
      "Observation: \u001b[36;1m\u001b[1;3mGDP of the UK 1948-2023 The gross domestic product of the United Kingdom in 2023 was 2.274 trillion British pounds, a slight increase when compared to the previous year, when the size of the UK economy was 2.27 trillion pounds.\u001b[0m\n",
      "Thought:\u001b[32;1m\u001b[1;3m Now I need to add 5 to the GDP\n",
      "Action: Calculator\n",
      "Action Input: 2.274 trillion + 5\u001b[0m\n",
      "Observation: \u001b[33;1m\u001b[1;3mAnswer: 2274000000005.0\u001b[0m\n",
      "Thought:\u001b[32;1m\u001b[1;3m I now know the final answer\n",
      "Final Answer: The GDP of UK 2023 plus 5 is 2.274 trillion British pounds.\u001b[0m\n",
      "\n",
      "\u001b[1m> Finished chain.\u001b[0m\n"
     ]
    },
    {
     "data": {
      "text/plain": [
       "'The GDP of UK 2023 plus 5 is 2.274 trillion British pounds.'"
      ]
     },
     "execution_count": 80,
     "metadata": {},
     "output_type": "execute_result"
    }
   ],
   "source": [
    "# The tools we'll give the Agent access to. Note that the 'llm-math' tool uses an LLM, so we need to pass that in.\n",
    "tools = load_tools([\"serpapi\", \"llm-math\"],llm=llm)\n",
    "\n",
    "\n",
    "agent = initialize_agent(tools, \n",
    "                 llm,\n",
    "                 agent = AgentType.ZERO_SHOT_REACT_DESCRIPTION,\n",
    "                         verbose = True\n",
    "                         \n",
    "                )\n",
    "\n",
    "agent.run(\"What was the GDP of UK 2023 and add 5 to it\")"
   ]
  },
  {
   "cell_type": "code",
   "execution_count": 81,
   "id": "6b7e44a7",
   "metadata": {
    "scrolled": false
   },
   "outputs": [
    {
     "data": {
      "text/plain": [
       "['Config',\n",
       " 'InputType',\n",
       " 'OutputType',\n",
       " '__abstractmethods__',\n",
       " '__annotations__',\n",
       " '__call__',\n",
       " '__class__',\n",
       " '__class_getitem__',\n",
       " '__class_vars__',\n",
       " '__config__',\n",
       " '__custom_root_type__',\n",
       " '__delattr__',\n",
       " '__dict__',\n",
       " '__dir__',\n",
       " '__doc__',\n",
       " '__eq__',\n",
       " '__exclude_fields__',\n",
       " '__fields__',\n",
       " '__fields_set__',\n",
       " '__format__',\n",
       " '__ge__',\n",
       " '__get_validators__',\n",
       " '__getattribute__',\n",
       " '__getstate__',\n",
       " '__gt__',\n",
       " '__hash__',\n",
       " '__include_fields__',\n",
       " '__init__',\n",
       " '__init_subclass__',\n",
       " '__iter__',\n",
       " '__json_encoder__',\n",
       " '__le__',\n",
       " '__lt__',\n",
       " '__module__',\n",
       " '__ne__',\n",
       " '__new__',\n",
       " '__or__',\n",
       " '__orig_bases__',\n",
       " '__parameters__',\n",
       " '__post_root_validators__',\n",
       " '__pre_root_validators__',\n",
       " '__pretty__',\n",
       " '__private_attributes__',\n",
       " '__reduce__',\n",
       " '__reduce_ex__',\n",
       " '__repr__',\n",
       " '__repr_args__',\n",
       " '__repr_name__',\n",
       " '__repr_str__',\n",
       " '__rich_repr__',\n",
       " '__ror__',\n",
       " '__schema_cache__',\n",
       " '__setattr__',\n",
       " '__setstate__',\n",
       " '__signature__',\n",
       " '__sizeof__',\n",
       " '__slots__',\n",
       " '__str__',\n",
       " '__subclasshook__',\n",
       " '__try_update_forward_refs__',\n",
       " '__validators__',\n",
       " '__weakref__',\n",
       " '_abatch_with_config',\n",
       " '_abc_impl',\n",
       " '_acall',\n",
       " '_acall_with_config',\n",
       " '_atransform_stream_with_config',\n",
       " '_batch_with_config',\n",
       " '_calculate_keys',\n",
       " '_call',\n",
       " '_call_with_config',\n",
       " '_chain_type',\n",
       " '_copy_and_set_values',\n",
       " '_decompose_class',\n",
       " '_enforce_dict_if_root',\n",
       " '_get_value',\n",
       " '_init_private_attributes',\n",
       " '_is_protocol',\n",
       " '_iter',\n",
       " '_run_output_key',\n",
       " '_transform_stream_with_config',\n",
       " '_validate_inputs',\n",
       " '_validate_outputs',\n",
       " 'abatch',\n",
       " 'abatch_as_completed',\n",
       " 'acall',\n",
       " 'ainvoke',\n",
       " 'apply',\n",
       " 'aprep_inputs',\n",
       " 'aprep_outputs',\n",
       " 'arun',\n",
       " 'assign',\n",
       " 'astream',\n",
       " 'astream_events',\n",
       " 'astream_log',\n",
       " 'atransform',\n",
       " 'batch',\n",
       " 'batch_as_completed',\n",
       " 'bind',\n",
       " 'callback_manager',\n",
       " 'callbacks',\n",
       " 'chains',\n",
       " 'config_schema',\n",
       " 'config_specs',\n",
       " 'configurable_alternatives',\n",
       " 'configurable_fields',\n",
       " 'construct',\n",
       " 'copy',\n",
       " 'dict',\n",
       " 'from_orm',\n",
       " 'get_graph',\n",
       " 'get_input_schema',\n",
       " 'get_lc_namespace',\n",
       " 'get_name',\n",
       " 'get_output_schema',\n",
       " 'get_prompts',\n",
       " 'input_key',\n",
       " 'input_keys',\n",
       " 'input_schema',\n",
       " 'invoke',\n",
       " 'is_lc_serializable',\n",
       " 'json',\n",
       " 'lc_attributes',\n",
       " 'lc_id',\n",
       " 'lc_secrets',\n",
       " 'map',\n",
       " 'memory',\n",
       " 'metadata',\n",
       " 'name',\n",
       " 'output_key',\n",
       " 'output_keys',\n",
       " 'output_schema',\n",
       " 'parse_file',\n",
       " 'parse_obj',\n",
       " 'parse_raw',\n",
       " 'pick',\n",
       " 'pipe',\n",
       " 'prep_inputs',\n",
       " 'prep_outputs',\n",
       " 'raise_callback_manager_deprecation',\n",
       " 'run',\n",
       " 'save',\n",
       " 'schema',\n",
       " 'schema_json',\n",
       " 'set_verbose',\n",
       " 'stream',\n",
       " 'strip_outputs',\n",
       " 'tags',\n",
       " 'to_json',\n",
       " 'to_json_not_implemented',\n",
       " 'transform',\n",
       " 'update_forward_refs',\n",
       " 'validate',\n",
       " 'validate_chains',\n",
       " 'verbose',\n",
       " 'with_alisteners',\n",
       " 'with_config',\n",
       " 'with_fallbacks',\n",
       " 'with_listeners',\n",
       " 'with_retry',\n",
       " 'with_types']"
      ]
     },
     "execution_count": 81,
     "metadata": {},
     "output_type": "execute_result"
    }
   ],
   "source": [
    "dir(chain)"
   ]
  },
  {
   "cell_type": "code",
   "execution_count": 83,
   "id": "ba22f82d",
   "metadata": {},
   "outputs": [],
   "source": [
    "from langchain.memory import ConversationBufferMemory"
   ]
  },
  {
   "cell_type": "code",
   "execution_count": 87,
   "id": "1b842444",
   "metadata": {},
   "outputs": [
    {
     "name": "stdout",
     "output_type": "stream",
     "text": [
      "\n",
      "\n",
      "\"El Sabor de México\" (The Flavor of Mexico)\n"
     ]
    }
   ],
   "source": [
    "memory = ConversationBufferMemory()\n",
    "\n",
    "chain = LLMChain(llm=llm, prompt=prompt_template_name, memory = memory)\n",
    "\n",
    "name = chain.run(\"Mexican\")\n",
    "print(name)"
   ]
  },
  {
   "cell_type": "code",
   "execution_count": 88,
   "id": "3da78a7f",
   "metadata": {},
   "outputs": [
    {
     "name": "stdout",
     "output_type": "stream",
     "text": [
      "\n",
      "\n",
      "\"Stateside Eats\"\n"
     ]
    }
   ],
   "source": [
    "name = chain.run(\"American\")\n",
    "print(name)"
   ]
  },
  {
   "cell_type": "code",
   "execution_count": 90,
   "id": "b65ae30b",
   "metadata": {},
   "outputs": [
    {
     "name": "stdout",
     "output_type": "stream",
     "text": [
      "Human: Mexican\n",
      "AI: \n",
      "\n",
      "\"El Sabor de México\" (The Flavor of Mexico)\n",
      "Human: American\n",
      "AI: \n",
      "\n",
      "\"Stateside Eats\"\n"
     ]
    }
   ],
   "source": [
    "print(chain.memory.buffer)"
   ]
  },
  {
   "cell_type": "markdown",
   "id": "4dace557",
   "metadata": {},
   "source": [
    "# Restriction buffer size so that the number of token generated into memory is not huge and is cost effective as well"
   ]
  },
  {
   "cell_type": "code",
   "execution_count": 93,
   "id": "ef8eb134",
   "metadata": {},
   "outputs": [
    {
     "name": "stdout",
     "output_type": "stream",
     "text": [
      "The following is a friendly conversation between a human and an AI. The AI is talkative and provides lots of specific details from its context. If the AI does not know the answer to a question, it truthfully says it does not know.\n",
      "\n",
      "Current conversation:\n",
      "{history}\n",
      "Human: {input}\n",
      "AI:\n"
     ]
    }
   ],
   "source": [
    "from langchain.chains import ConversationChain\n",
    "\n",
    "convo = ConversationChain(llm = OpenAI(temperature = 0.7))\n",
    "\n",
    "print(convo.prompt.template)"
   ]
  },
  {
   "cell_type": "code",
   "execution_count": 107,
   "id": "6e24970d",
   "metadata": {},
   "outputs": [
    {
     "data": {
      "text/plain": [
       "'   As I mentioned before, the current chess grandmaster is still Magnus Carlsen. Did you know that he has been the world champion since 2013 and has successfully defended his title in three consecutive matches? He is truly a dominant force in the world of chess.'"
      ]
     },
     "execution_count": 107,
     "metadata": {},
     "output_type": "execute_result"
    }
   ],
   "source": [
    "convo.run(\"Who is the current chess grandmaster\")\n"
   ]
  },
  {
   "cell_type": "code",
   "execution_count": 96,
   "id": "f7ba8be8",
   "metadata": {},
   "outputs": [
    {
     "data": {
      "text/plain": [
       "' As I mentioned before, Magnus Carlsen was recently defeated by Wesley So. Did you know that So is currently ranked #8 in the world and is the only player to have defeated Carlsen in a classical time control game in the past two years? It was an impressive win for So and he is definitely a rising star in the chess world.'"
      ]
     },
     "execution_count": 96,
     "metadata": {},
     "output_type": "execute_result"
    }
   ],
   "source": [
    "convo.run(\"Who defeated Magnus Carlsen recently?\")"
   ]
  },
  {
   "cell_type": "code",
   "execution_count": 99,
   "id": "b6c0fc6d",
   "metadata": {},
   "outputs": [
    {
     "data": {
      "text/plain": [
       "' I am not able to accurately answer that question as the national elections in India in 2024 have not yet taken place. The current prime minister of India is Narendra Modi, but it is uncertain if he will still hold that position in 2024. '"
      ]
     },
     "execution_count": 99,
     "metadata": {},
     "output_type": "execute_result"
    }
   ],
   "source": [
    "convo.run(\"Who won the national elections in India 2024 and who is the prime minister?\")"
   ]
  },
  {
   "cell_type": "code",
   "execution_count": 100,
   "id": "8d8c184f",
   "metadata": {},
   "outputs": [
    {
     "data": {
      "text/plain": [
       "'  The current chess grandmaster is Magnus Carlsen, and he has not been defeated by an Indian player recently. However, Indian chess player Viswanathan Anand has defeated Carlsen in the past, becoming the undisputed world champion in 2008. Anand is a five-time world champion and is considered one of the greatest chess players in history.'"
      ]
     },
     "execution_count": 100,
     "metadata": {},
     "output_type": "execute_result"
    }
   ],
   "source": [
    "convo.run(\"Which Indian chess player defeated the current grandmaster\")"
   ]
  },
  {
   "cell_type": "code",
   "execution_count": 103,
   "id": "00969f9a",
   "metadata": {},
   "outputs": [
    {
     "name": "stdout",
     "output_type": "stream",
     "text": [
      "Human: Who is the current chess grandmaster\n",
      "AI:  The current chess grandmaster is Magnus Carlsen. He is a Norwegian chess player and has held the title since 2013. He has an Elo rating of 2882, making him the highest-rated player in history. He has won numerous prestigious tournaments and is known for his strategic and aggressive playing style.\n",
      "Human: Who is the current chess grandmaster\n",
      "AI:  As I mentioned earlier, the current chess grandmaster is Magnus Carlsen. Did you know that he became a grandmaster at the age of 13, making him the second youngest person to achieve this title? He also holds the record for the longest unbeaten streak in competitive chess, with 125 games without a loss.\n",
      "Human: Who defeated Magnus Carlsen recently?\n",
      "AI:  Magnus Carlsen was recently defeated by American chess player Wesley So in the finals of the Skilling Open tournament in November 2020. However, Carlsen still maintains his top ranking as the current chess grandmaster.\n",
      "Human: Who defeated Magnus Carlsen recently?\n",
      "AI:  As I mentioned before, Magnus Carlsen was recently defeated by Wesley So. Did you know that So is currently ranked #8 in the world and is the only player to have defeated Carlsen in a classical time control game in the past two years? It was an impressive win for So and he is definitely a rising star in the chess world.\n",
      "Human: Who is the current chess grandmaster\n",
      "AI:   I apologize, I do not have any new information to add. The current chess grandmaster is still Magnus Carlsen.\n",
      "Human: Who won the elections in India last week?\n",
      "AI:  The elections in India last week were for the state of West Bengal, and the All India Trinamool Congress (AITC) party won the majority of seats. Mamata Banerjee, the current chief minister of West Bengal, will continue to hold her position after her party's victory.\n",
      "Human: Who won the national elections in India 2024 and who is the prime minister?\n",
      "AI:  I am not able to accurately answer that question as the national elections in India in 2024 have not yet taken place. The current prime minister of India is Narendra Modi, but it is uncertain if he will still hold that position in 2024. \n",
      "Human: Which Indian chess player defeated the current grandmaster\n",
      "AI:   The current chess grandmaster is Magnus Carlsen, and he has not been defeated by an Indian player recently. However, Indian chess player Viswanathan Anand has defeated Carlsen in the past, becoming the undisputed world champion in 2008. Anand is a five-time world champion and is considered one of the greatest chess players in history.\n"
     ]
    }
   ],
   "source": [
    "print(convo.memory.buffer)"
   ]
  },
  {
   "cell_type": "code",
   "execution_count": 105,
   "id": "4ec2b90b",
   "metadata": {},
   "outputs": [],
   "source": [
    "from langchain.memory import ConversationBufferWindowMemory"
   ]
  },
  {
   "cell_type": "code",
   "execution_count": 112,
   "id": "34e2d4d1",
   "metadata": {},
   "outputs": [],
   "source": [
    "memory = ConversationBufferWindowMemory(k=1)\n",
    "\n",
    "convo = ConversationChain(llm = OpenAI(temperature = 0.7), memory = memory)"
   ]
  },
  {
   "cell_type": "code",
   "execution_count": 113,
   "id": "728f8c27",
   "metadata": {},
   "outputs": [
    {
     "data": {
      "text/plain": [
       "' The current chess grandmaster is Magnus Carlsen from Norway. He has held the title since 2013 and has a current rating of 2872, making him the highest rated player in history. He is known for his strategic and aggressive playing style and has won numerous tournaments and titles throughout his career.'"
      ]
     },
     "execution_count": 113,
     "metadata": {},
     "output_type": "execute_result"
    }
   ],
   "source": [
    "convo.run(\"Who is the current chess grandmaster\")"
   ]
  },
  {
   "cell_type": "code",
   "execution_count": 114,
   "id": "fa913625",
   "metadata": {},
   "outputs": [
    {
     "data": {
      "text/plain": [
       "' In 2024, the national elections in India were won by the Bharatiya Janata Party (BJP) led by Prime Minister Narendra Modi. Modi has been the Prime Minister of India since 2014 and is known for his economic reforms and strong stance on national security. He won a landslide victory in the 2024 elections, securing his second term in office.'"
      ]
     },
     "execution_count": 114,
     "metadata": {},
     "output_type": "execute_result"
    }
   ],
   "source": [
    "convo.run(\"Who won the national elections in India 2024 and who is the prime minister?\")"
   ]
  },
  {
   "cell_type": "code",
   "execution_count": 115,
   "id": "3f3646a4",
   "metadata": {},
   "outputs": [
    {
     "data": {
      "text/plain": [
       "\" I'm sorry, I do not have information on the current grandmaster of chess. However, some notable Indian chess players include Viswanathan Anand, Pentala Harikrishna, and Vidit Santosh Gujrathi. Anand is a former world champion and is considered one of the greatest chess players of all time. Harikrishna is currently the highest-ranked Indian chess player and Gujrathi is known for his aggressive playing style.\""
      ]
     },
     "execution_count": 115,
     "metadata": {},
     "output_type": "execute_result"
    }
   ],
   "source": [
    "convo.run(\"Which Indian chess player defeated the current grandmaster\")"
   ]
  },
  {
   "cell_type": "code",
   "execution_count": 116,
   "id": "e5827d49",
   "metadata": {},
   "outputs": [
    {
     "name": "stdout",
     "output_type": "stream",
     "text": [
      "Human: Which Indian chess player defeated the current grandmaster\n",
      "AI:  I'm sorry, I do not have information on the current grandmaster of chess. However, some notable Indian chess players include Viswanathan Anand, Pentala Harikrishna, and Vidit Santosh Gujrathi. Anand is a former world champion and is considered one of the greatest chess players of all time. Harikrishna is currently the highest-ranked Indian chess player and Gujrathi is known for his aggressive playing style.\n"
     ]
    }
   ],
   "source": [
    "print(convo.memory.buffer)"
   ]
  },
  {
   "cell_type": "code",
   "execution_count": null,
   "id": "bfe4da19",
   "metadata": {},
   "outputs": [],
   "source": []
  },
  {
   "cell_type": "code",
   "execution_count": null,
   "id": "c1d3378e",
   "metadata": {},
   "outputs": [],
   "source": []
  },
  {
   "cell_type": "code",
   "execution_count": null,
   "id": "45b774f9",
   "metadata": {},
   "outputs": [],
   "source": []
  },
  {
   "cell_type": "code",
   "execution_count": null,
   "id": "593a3030",
   "metadata": {},
   "outputs": [],
   "source": []
  }
 ],
 "metadata": {
  "kernelspec": {
   "display_name": "Python 3 (ipykernel)",
   "language": "python",
   "name": "python3"
  },
  "language_info": {
   "codemirror_mode": {
    "name": "ipython",
    "version": 3
   },
   "file_extension": ".py",
   "mimetype": "text/x-python",
   "name": "python",
   "nbconvert_exporter": "python",
   "pygments_lexer": "ipython3",
   "version": "3.10.9"
  },
  "varInspector": {
   "cols": {
    "lenName": 16,
    "lenType": 16,
    "lenVar": 40
   },
   "kernels_config": {
    "python": {
     "delete_cmd_postfix": "",
     "delete_cmd_prefix": "del ",
     "library": "var_list.py",
     "varRefreshCmd": "print(var_dic_list())"
    },
    "r": {
     "delete_cmd_postfix": ") ",
     "delete_cmd_prefix": "rm(",
     "library": "var_list.r",
     "varRefreshCmd": "cat(var_dic_list()) "
    }
   },
   "types_to_exclude": [
    "module",
    "function",
    "builtin_function_or_method",
    "instance",
    "_Feature"
   ],
   "window_display": false
  }
 },
 "nbformat": 4,
 "nbformat_minor": 5
}
